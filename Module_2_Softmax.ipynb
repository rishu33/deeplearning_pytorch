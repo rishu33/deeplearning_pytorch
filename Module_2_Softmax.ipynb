{
 "cells": [
  {
   "cell_type": "markdown",
   "id": "0386252b",
   "metadata": {},
   "source": [
    "#### Module 2: SOFTMAX"
   ]
  },
  {
   "cell_type": "markdown",
   "id": "31c84a40",
   "metadata": {},
   "source": []
  }
 ],
 "metadata": {
  "language_info": {
   "name": "python"
  }
 },
 "nbformat": 4,
 "nbformat_minor": 5
}
