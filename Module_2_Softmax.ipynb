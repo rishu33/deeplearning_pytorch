{
 "cells": [
  {
   "cell_type": "markdown",
   "id": "0386252b",
   "metadata": {},
   "source": [
    "#### Module 2: SOFTMAX"
   ]
  },
  {
   "cell_type": "markdown",
   "id": "31c84a40",
   "metadata": {},
   "source": [
    "#### Outline\n",
    "\n",
    "* Softmax 1D\n",
    "* Softmax 2D"
   ]
  },
  {
   "cell_type": "markdown",
   "id": "c606a23f",
   "metadata": {},
   "source": [
    "#### Softmax 1D\n",
    "\n",
    "Just like logistic regression, we'll have integer classes but instead of just two classes. We could have multiple classes, and in this case we have four.  \n",
    "y = $\\begin{bmatrix} 2 \\\\ 4 \\\\ 1 \\\\ 0 \\end{bmatrix}$  \n",
    "\n",
    "We'll also have feature vectors or tensors.  \n",
    "Each sample will correspond to a different row in the matrix or tensor X.  \n",
    "X = $\\begin{bmatrix} 4.9 & 3 & 1.4 & 0.2 \\\\ 4.1 & 1 & 1.4 & 0.2 \\\\ 1.1 & 2.1 & 3 & -1 \\\\ 4.3 & 1.9 & 1 & 7.9 \\end{bmatrix}$  \n",
    "\n"
   ]
  },
  {
   "cell_type": "markdown",
   "id": "82201d8c",
   "metadata": {},
   "source": []
  }
 ],
 "metadata": {
  "language_info": {
   "name": "python"
  }
 },
 "nbformat": 4,
 "nbformat_minor": 5
}
